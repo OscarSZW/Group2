{
 "cells": [
  {
   "cell_type": "markdown",
   "metadata": {},
   "source": [
    "## SEAMS 2019 demonstration of analysis"
   ]
  },
  {
   "cell_type": "code",
   "execution_count": 3,
   "metadata": {},
   "outputs": [
    {
     "data": {
      "image/png": "[encoded data removed]",
      "text/plain": [
       "<Figure size 720x360 with 1 Axes>"
      ]
     },
     "metadata": {
      "needs_background": "light"
     },
     "output_type": "display_data"
    },
    {
     "name": "stdout",
     "output_type": "stream",
     "text": [
      "************\n",
      "STATS\n",
      "************\n",
      "Average overhead for AOS_LB is 1.68851393956\n",
      "Average overhead for LB is  1.68851393956\n",
      "Average overhead for TPR_LB is  1.70671248187\n",
      "************\n",
      "Median overhead for AOS_LB is 1.46027744404\n",
      "Median overhead for LB is  1.46027744404\n",
      "Median overhead for TPR_LB is  1.48226958318\n",
      "************\n",
      "Variance of overhead for AOS_LB is 0.565001425442\n",
      "Variance of overhead for LB is  0.565001425442\n",
      "Variance of overhead for TPR_LB is  0.577061408877\n"
     ]
    }
   ],
   "source": [
    "%matplotlib inline  \n",
    "import matplotlib as mpl\n",
    "import matplotlib.pyplot as plt\n",
    "from statistics import mean, median, variance \n",
    "plt.rcParams['figure.figsize'] = [10, 5]\n",
    "import pprint\n",
    "\n",
    "def get_overheads(file_name):\n",
    "    data = []\n",
    "    with open(file_name, 'r') as results:\n",
    "        for line in results:\n",
    "            line = line.split(\",\")\n",
    "            trip_duration = float(line[4])\n",
    "            overhead = float(line[6])\n",
    "            agent = line[7]\n",
    "            preference = line[8].replace('\\r', '').replace('\\n', '')\n",
    "            \n",
    "            data.append(overhead)\n",
    "    return data\n",
    "\n",
    "AOS_LB_overheads = get_overheads(\"data/AOS_LB_overheads.csv\")\n",
    "LB_overheads = get_overheads(\"data/LB_overheads.csv\")\n",
    "TPR_LB_overheads = get_overheads(\"data/TPR_LB_overheads.csv\")\n",
    "\n",
    "plt.figure()\n",
    "plt.boxplot([AOS_LB_overheads, LB_overheads, TPR_LB_overheads], labels=[\"AOS_LB\", \"LB\",\"TPR_LB\"])\n",
    "plt.show()\n",
    "\n",
    "print(\"************\")\n",
    "print(\"STATS\")\n",
    "print(\"************\")\n",
    "print(\"Average overhead for AOS_LB is % s\" % (mean(AOS_LB_overheads))) \n",
    "print(\"Average overhead for LB is  % s\" % (mean(LB_overheads))) \n",
    "print(\"Average overhead for TPR_LB is  % s\" % (mean(TPR_LB_overheads))) \n",
    "print(\"************\")\n",
    "print(\"Median overhead for AOS_LB is % s\" % (median(AOS_LB_overheads))) \n",
    "print(\"Median overhead for LB is  % s\" % (median(LB_overheads)))\n",
    "print(\"Median overhead for TPR_LB is  % s\" % (median(TPR_LB_overheads))) \n",
    "print(\"************\")\n",
    "print(\"Variance of overhead for AOS_LB is % s\" % (variance(AOS_LB_overheads))) \n",
    "print(\"Variance of overhead for LB is  % s\" % (variance(LB_overheads))) \n",
    "print(\"Variance of overhead for TPR_LB is  % s\" % (variance(TPR_LB_overheads))) \n"
   ]
  },
  {
   "cell_type": "code",
   "execution_count": 4,
   "metadata": {},
   "outputs": [
    {
     "data": {
      "image/png": "[encoded data removed]",
      "text/plain": [
       "<Figure size 720x360 with 1 Axes>"
      ]
     },
     "metadata": {
      "needs_background": "light"
     },
     "output_type": "display_data"
    },
    {
     "name": "stdout",
     "output_type": "stream",
     "text": [
      "************\n",
      "STATS\n",
      "************\n",
      "Average street utilization for AOS_LB is 0.0293086604595\n",
      "Average street utilization for LB is 0.0293086604595\n",
      "Average street utilization for TPR_LB is 0.0293880875509\n",
      "************\n",
      "Median street utilization for AOS_LB is 0.00883542325076\n",
      "Median street utilization for LB is 0.00883542325076\n",
      "Median street utilization for TPR_LB is 0.00894164459198\n",
      "************\n",
      "Variance of street utilization for AOS_LB is 0.00356299160106\n",
      "Variance of street utilization for LB is 0.00356299160106\n",
      "Variance of street utilization for TPR_LB is 0.00357668620918\n"
     ]
    }
   ],
   "source": [
    "def get_utilizations(file_name):\n",
    "    utilizations = []\n",
    "    line_no = 0\n",
    "        \n",
    "    with open(file_name, 'r') as results:\n",
    "        for line in results:\n",
    "            line = line.split(\",\")\n",
    "            line[len(line)-1] = line[len(line)-1].replace('\\r', '').replace('\\n', '')\n",
    "            line_no = line_no + 1\n",
    "            if line_no == 1:\n",
    "                edges = line\n",
    "            else: \n",
    "                utilizations.append([float(u) for u in line[1:]])   \n",
    "    \n",
    "    streets_data = {}\n",
    "    for i in range(len(edges)):\n",
    "        streets_data[edges[i]] = [utilization[i] for utilization in utilizations]\n",
    "\n",
    "    streets_utilizations = {}\n",
    "    for key, value in streets_data.iteritems():\n",
    "        streets_utilizations[key] = mean(value)\n",
    "    \n",
    "    return streets_utilizations\n",
    "\n",
    "AOS_LB_utilizations = get_utilizations(\"data/AOS_LB_streets.csv\")\n",
    "LB_utilizations = get_utilizations(\"data/LB_streets.csv\")\n",
    "TPR_LB_utilizations = get_utilizations(\"data/TPR_LB_streets.csv\")\n",
    "plt.figure()\n",
    "plt.boxplot([AOS_LB_utilizations.values(), LB_utilizations.values(), TPR_LB_utilizations.values()], labels=[\"AOS_LB\", \"LB\",\"TPR_LB\"])\n",
    "plt.show()\n",
    "\n",
    "print(\"************\")\n",
    "print(\"STATS\")\n",
    "print(\"************\")\n",
    "print(\"Average street utilization for AOS_LB is % s\" % (mean(AOS_LB_utilizations.values()))) \n",
    "print(\"Average street utilization for LB is % s\" % (mean(LB_utilizations.values()))) \n",
    "print(\"Average street utilization for TPR_LB is % s\" % (mean(TPR_LB_utilizations.values()))) \n",
    "print(\"************\")\n",
    "print(\"Median street utilization for AOS_LB is % s\" % (median(AOS_LB_utilizations.values()))) \n",
    "print(\"Median street utilization for LB is % s\" % (median(LB_utilizations.values()))) \n",
    "print(\"Median street utilization for TPR_LB is % s\" % (median(TPR_LB_utilizations.values())))  \n",
    "print(\"************\")\n",
    "print(\"Variance of street utilization for AOS_LB is % s\" % (variance(AOS_LB_utilizations.values()))) \n",
    "print(\"Variance of street utilization for LB is % s\" % (variance(LB_utilizations.values()))) \n",
    "print(\"Variance of street utilization for TPR_LB is % s\" % (variance(TPR_LB_utilizations.values()))) \n"
   ]
  },
  {
   "cell_type": "code",
   "execution_count": null,
   "metadata": {},
   "outputs": [],
   "source": []
  }
 ],
 "metadata": {
  "anaconda-cloud": {},
  "kernelspec": {
   "display_name": "Python 2",
   "language": "python",
   "name": "python2"
  },
  "language_info": {
   "codemirror_mode": {
    "name": "ipython",
    "version": 2
   },
   "file_extension": ".py",
   "mimetype": "text/x-python",
   "name": "python",
   "nbconvert_exporter": "python",
   "pygments_lexer": "ipython2",
   "version": "2.7.15rc1"
  }
 },
 "nbformat": 4,
 "nbformat_minor": 1
}
